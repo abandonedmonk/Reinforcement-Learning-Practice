{
 "cells": [
  {
   "cell_type": "code",
   "execution_count": 1,
   "metadata": {},
   "outputs": [],
   "source": [
    "import gymnasium as gym\n",
    "import numpy as np\n",
    "import matplotlib.pyplot as plt\n",
    "from collections import deque\n",
    "import random\n",
    "import torch\n",
    "from torch import nn\n",
    "import torch.nn.functional as F"
   ]
  },
  {
   "cell_type": "code",
   "execution_count": 2,
   "metadata": {},
   "outputs": [],
   "source": [
    "class DQN(nn.Module):\n",
    "    def __init__(self, in_states, h1_nodes, out_actions):\n",
    "        super().__init__()\n",
    "        \n",
    "        self.fc1 = nn.Linear(in_states, h1_nodes)\n",
    "        self.out = nn.Linear(h1_nodes, out_actions)\n",
    "        \n",
    "    def forward(self, x):\n",
    "        x = F.relu(self.fc1(x))\n",
    "        x = self.out(x)\n",
    "        return x\n",
    "\n",
    "class ReplayMemory():\n",
    "    def __init__(self, maxlen):\n",
    "        self.memory = deque([], maxlen=maxlen)\n",
    "    \n",
    "    def append(self, transition):\n",
    "        self.memory.append(transition)\n",
    "    \n",
    "    def sample(self, sample_size):\n",
    "        return random.sample(self.memory, sample_size)\n",
    "    \n",
    "    def __len__(self):\n",
    "        return len(self.memory)"
   ]
  },
  {
   "cell_type": "code",
   "execution_count": 11,
   "metadata": {},
   "outputs": [],
   "source": [
    "class FrozenLakeDQL():\n",
    "    learning_rate_a = 0.001\n",
    "    discount_factor_g = 0.9\n",
    "    network_sync_rate = 10\n",
    "    replay_memory_size = 1000\n",
    "    mini_batch_size = 32\n",
    "    \n",
    "    loss_fn = nn.MSELoss()\n",
    "    optimizer = None\n",
    "    \n",
    "    ACTIONS = ['L', 'D', 'R', 'U']\n",
    "    \n",
    "    def train(self, episodes, render = False, is_slippery=False):\n",
    "        env = gym.make('FrozenLake-v1', map_name=\"4x4\", is_slippery=is_slippery, render_mode='human' if render else None)\n",
    "        num_states = env.observation_space.n\n",
    "        num_actions = env.action_space.n\n",
    "        \n",
    "        epsilon = 1\n",
    "        memory = ReplayMemory(self.replay_memory_size)\n",
    "        \n",
    "        policy_dqn = DQN(in_states=num_states, h1_nodes=num_states, out_actions=num_actions)\n",
    "        target_dqn = DQN(in_states=num_states, h1_nodes=num_states, out_actions=num_actions)\n",
    "        \n",
    "        target_dqn.load_state_dict(policy_dqn.state_dict())\n",
    "        \n",
    "        print('Policy (random, before training):')\n",
    "        self.print_dqn(policy_dqn)\n",
    "        \n",
    "        self.optimizer = torch.optim.Adam(policy_dqn.parameters(), lr=self.learning_rate_a)\n",
    "        \n",
    "        rewards_per_episode = np.zeros(episodes)\n",
    "        \n",
    "        epsilon_history = []\n",
    "        \n",
    "        step_count = 0\n",
    "        \n",
    "        for i in range(episodes):\n",
    "            state = env.reset()[0]\n",
    "            terminated = False\n",
    "            truncated = False\n",
    "            \n",
    "            while(not terminated and not truncated):\n",
    "                if random.random() < epsilon:\n",
    "                    action = env.action_space.sample()\n",
    "                else:\n",
    "                    with torch.no_grad():\n",
    "                        action = policy_dqn(self.state_to_dqn_input(state, num_states)).argmax().item()\n",
    "                        \n",
    "                new_state, reward, terminated, truncated, _ = env.step(action)\n",
    "                memory.append((state, action, new_state, reward, terminated))\n",
    "\n",
    "                state = new_state\n",
    "                step_count += 1\n",
    "            \n",
    "            if reward == 1:\n",
    "                rewards_per_episode[i] = 1\n",
    "            \n",
    "            if len(memory) > self.mini_batch_size and np.sum(rewards_per_episode) > 0:\n",
    "                mini_batch = memory.sample(self.mini_batch_size)\n",
    "                self.optimize(mini_batch, policy_dqn, target_dqn)\n",
    "                \n",
    "                epsilon = max(epsilon - 1/episodes, 0)\n",
    "                epsilon_history.append(epsilon)\n",
    "                \n",
    "                if step_count > self.network_sync_rate:\n",
    "                    target_dqn.load_state_dict(policy_dqn.state_dict())\n",
    "                    step_count = 0\n",
    "                    \n",
    "        env.close()\n",
    "        torch.save(policy_dqn.state_dict(), \"frozen_lake_dql.pt\")\n",
    "        plt.figure(1)\n",
    "        \n",
    "        sum_rewards = np.zeros(episodes)\n",
    "        for x in range(episodes):\n",
    "            sum_rewards[x] = np.sum(rewards_per_episode[max(0, x-100):(x+1)])\n",
    "        plt.subplot(121)\n",
    "        plt.plot(sum_rewards)\n",
    "        \n",
    "        plt.subplot(122)\n",
    "        plt.plot(epsilon_history)\n",
    "        \n",
    "        plt.savefig('frozen_lake_dql.png')\n",
    "        \n",
    "    def optimize(self, mini_batch, policy_dqn, target_dqn):\n",
    "        num_states = policy_dqn.fc1.in_features\n",
    "        \n",
    "        current_q_list = []\n",
    "        target_q_list = []\n",
    "        \n",
    "        for state, action, new_state, reward, terminated in mini_batch:\n",
    "            if terminated:\n",
    "                target = torch.FloatTensor([reward])\n",
    "            else:\n",
    "                with torch.no_grad():\n",
    "                    target = torch.FloatTensor(\n",
    "                        reward + self.discount_factor_g * target_dqn(self.state_to_dqn_input(new_state, num_states)).max()\n",
    "                    )                \n",
    "            \n",
    "            current_q = policy_dqn(self.state_to_dqn_input(state, num_states))\n",
    "            current_q_list.append(current_q)\n",
    "            \n",
    "            target_q = target_dqn(self.state_to_dqn_input(state, num_states))\n",
    "            target_q[action] = target\n",
    "            target_q_list.append(target_q)\n",
    "            \n",
    "        loss = self.loss_fn(torch.stack(current_q_list), torch.stack(target_q_list))\n",
    "        \n",
    "        self.optimizer.zero_grad()\n",
    "        loss.backward()\n",
    "        self.optimizer.step()\n",
    "        \n",
    "    def state_to_dqn_input(self, state:int, num_states:int) -> torch.Tensor:\n",
    "        input_tensor = torch.zeros(num_states)\n",
    "        input_tensor[state] = 1\n",
    "        return input_tensor\n",
    "    \n",
    "    def test(self, episodes, is_slippery=False):\n",
    "        env = gym.make('FrozenLake-v1', map_name = '4x4', is_slippery=is_slippery, render_mode='human')\n",
    "        num_states = env.observation_space.n\n",
    "        num_actions = env.action_space.n\n",
    "\n",
    "        policy_dqn = DQN(in_states=num_states, h1_nodes=num_states, out_actions=num_actions) \n",
    "        policy_dqn.load_state_dict(torch.load(\"frozen_lake_dql.pt\"))\n",
    "        policy_dqn.eval()             \n",
    "        \n",
    "        print('Policy (trained):')\n",
    "        self.print_dqn(policy_dqn)\n",
    "\n",
    "        for i in range(episodes):\n",
    "            state = env.reset()[0]  \n",
    "            terminated = False      \n",
    "            truncated = False                   \n",
    "\n",
    "            while(not terminated and not truncated):  \n",
    "                with torch.no_grad():\n",
    "                    action = policy_dqn(self.state_to_dqn_input(state, num_states)).argmax().item()\n",
    "\n",
    "                state,reward,terminated,truncated,_ = env.step(action)\n",
    "\n",
    "        env.close()\n",
    "        \n",
    "    def print_dqn(self, dqn):\n",
    "        num_states = dqn.fc1.in_features\n",
    "\n",
    "        for s in range(num_states):\n",
    "            q_values = ''\n",
    "            for q in dqn(self.state_to_dqn_input(s, num_states)).tolist():\n",
    "                q_values += \"{:+.2f}\".format(q)+' '  \n",
    "            q_values=q_values.rstrip()              \n",
    "\n",
    "            best_action = self.ACTIONS[dqn(self.state_to_dqn_input(s, num_states)).argmax()]\n",
    "\n",
    "            print(f'{s:02},{best_action},[{q_values}]', end=' ')         \n",
    "            if (s+1)%4==0:\n",
    "                print()\n",
    "        "
   ]
  },
  {
   "cell_type": "code",
   "execution_count": 12,
   "metadata": {},
   "outputs": [
    {
     "name": "stdout",
     "output_type": "stream",
     "text": [
      "Policy (random, before training):\n",
      "00,D,[+0.06 +0.16 -0.03 -0.14] 01,D,[+0.17 +0.23 +0.02 -0.18] 02,D,[+0.17 +0.24 -0.05 -0.20] 03,D,[+0.10 +0.16 +0.06 -0.16] \n",
      "04,D,[+0.14 +0.30 -0.03 -0.28] 05,L,[+0.18 +0.09 +0.01 -0.12] 06,D,[+0.08 +0.10 +0.05 -0.09] 07,D,[+0.17 +0.20 -0.01 -0.19] \n",
      "08,D,[+0.08 +0.18 -0.00 -0.13] 09,D,[+0.12 +0.20 +0.05 -0.18] 10,D,[+0.09 +0.32 -0.04 -0.21] 11,D,[+0.15 +0.18 +0.02 -0.15] \n",
      "12,L,[+0.21 +0.15 -0.02 -0.19] 13,D,[+0.09 +0.24 -0.10 -0.17] 14,D,[+0.13 +0.23 -0.03 -0.13] 15,D,[+0.10 +0.14 +0.11 -0.14] \n"
     ]
    },
    {
     "name": "stderr",
     "output_type": "stream",
     "text": [
      "c:\\Users\\anshu\\miniconda3\\envs\\ml-zoomcamp\\Lib\\site-packages\\gymnasium\\utils\\passive_env_checker.py:249: DeprecationWarning: `np.bool8` is a deprecated alias for `np.bool_`.  (Deprecated NumPy 1.24)\n",
      "  if not isinstance(terminated, (bool, np.bool8)):\n",
      "C:\\Users\\anshu\\AppData\\Local\\Temp\\ipykernel_28160\\2228758045.py:123: FutureWarning: You are using `torch.load` with `weights_only=False` (the current default value), which uses the default pickle module implicitly. It is possible to construct malicious pickle data which will execute arbitrary code during unpickling (See https://github.com/pytorch/pytorch/blob/main/SECURITY.md#untrusted-models for more details). In a future release, the default value for `weights_only` will be flipped to `True`. This limits the functions that could be executed during unpickling. Arbitrary objects will no longer be allowed to be loaded via this mode unless they are explicitly allowlisted by the user via `torch.serialization.add_safe_globals`. We recommend you start setting `weights_only=True` for any use case where you don't have full control of the loaded file. Please open an issue on GitHub for any issues related to this experimental feature.\n",
      "  policy_dqn.load_state_dict(torch.load(\"frozen_lake_dql.pt\"))\n"
     ]
    },
    {
     "name": "stdout",
     "output_type": "stream",
     "text": [
      "Policy (trained):\n",
      "00,R,[+0.53 +0.58 +0.58 +0.54] 01,R,[+0.57 +0.15 +0.65 +0.53] 02,D,[+0.58 +0.73 +0.52 +0.64] 03,L,[+0.59 +0.31 +0.43 +0.53] \n",
      "04,D,[+0.60 +0.65 +0.01 +0.53] 05,L,[+0.56 +0.21 +0.38 +0.52] 06,D,[+0.26 +0.82 -0.01 +0.66] 07,L,[+0.56 +0.53 +0.43 +0.39] \n",
      "08,R,[+0.63 +0.02 +0.73 +0.59] 09,R,[+0.65 +0.80 +0.83 +0.19] 10,D,[+0.71 +0.92 +0.01 +0.71] 11,L,[+0.59 +0.51 +0.44 +0.42] \n",
      "12,L,[+0.62 +0.36 +0.32 +0.41] 13,R,[+0.51 +0.77 +0.92 +0.62] 14,R,[+0.81 +0.90 +1.01 +0.78] 15,R,[+0.45 +0.38 +0.72 +0.40] \n"
     ]
    },
    {
     "name": "stderr",
     "output_type": "stream",
     "text": [
      "c:\\Users\\anshu\\miniconda3\\envs\\ml-zoomcamp\\Lib\\site-packages\\gymnasium\\utils\\passive_env_checker.py:249: DeprecationWarning: `np.bool8` is a deprecated alias for `np.bool_`.  (Deprecated NumPy 1.24)\n",
      "  if not isinstance(terminated, (bool, np.bool8)):\n"
     ]
    },
    {
     "data": {
      "image/png": "[encoded data removed]",
      "text/plain": [
       "<Figure size 640x480 with 2 Axes>"
      ]
     },
     "metadata": {},
     "output_type": "display_data"
    }
   ],
   "source": [
    "if __name__ == '__main__':\n",
    "\n",
    "    frozen_lake = FrozenLakeDQL()\n",
    "    is_slippery = False\n",
    "    frozen_lake.train(1000, is_slippery=is_slippery)\n",
    "    frozen_lake.test(10, is_slippery=is_slippery)"
   ]
  },
  {
   "cell_type": "code",
   "execution_count": 13,
   "metadata": {},
   "outputs": [
    {
     "name": "stderr",
     "output_type": "stream",
     "text": [
      "C:\\Users\\anshu\\AppData\\Local\\Temp\\ipykernel_28160\\2228758045.py:123: FutureWarning: You are using `torch.load` with `weights_only=False` (the current default value), which uses the default pickle module implicitly. It is possible to construct malicious pickle data which will execute arbitrary code during unpickling (See https://github.com/pytorch/pytorch/blob/main/SECURITY.md#untrusted-models for more details). In a future release, the default value for `weights_only` will be flipped to `True`. This limits the functions that could be executed during unpickling. Arbitrary objects will no longer be allowed to be loaded via this mode unless they are explicitly allowlisted by the user via `torch.serialization.add_safe_globals`. We recommend you start setting `weights_only=True` for any use case where you don't have full control of the loaded file. Please open an issue on GitHub for any issues related to this experimental feature.\n",
      "  policy_dqn.load_state_dict(torch.load(\"frozen_lake_dql.pt\"))\n"
     ]
    },
    {
     "name": "stdout",
     "output_type": "stream",
     "text": [
      "Policy (trained):\n",
      "00,R,[+0.53 +0.58 +0.58 +0.54] 01,R,[+0.57 +0.15 +0.65 +0.53] 02,D,[+0.58 +0.73 +0.52 +0.64] 03,L,[+0.59 +0.31 +0.43 +0.53] \n",
      "04,D,[+0.60 +0.65 +0.01 +0.53] 05,L,[+0.56 +0.21 +0.38 +0.52] 06,D,[+0.26 +0.82 -0.01 +0.66] 07,L,[+0.56 +0.53 +0.43 +0.39] \n",
      "08,R,[+0.63 +0.02 +0.73 +0.59] 09,R,[+0.65 +0.80 +0.83 +0.19] 10,D,[+0.71 +0.92 +0.01 +0.71] 11,L,[+0.59 +0.51 +0.44 +0.42] \n",
      "12,L,[+0.62 +0.36 +0.32 +0.41] 13,R,[+0.51 +0.77 +0.92 +0.62] 14,R,[+0.81 +0.90 +1.01 +0.78] 15,R,[+0.45 +0.38 +0.72 +0.40] \n"
     ]
    }
   ],
   "source": [
    "frozen_lake.test(10, is_slippery=is_slippery)"
   ]
  },
  {
   "cell_type": "code",
   "execution_count": null,
   "metadata": {},
   "outputs": [],
   "source": []
  }
 ],
 "metadata": {
  "kernelspec": {
   "display_name": "Python 3",
   "language": "python",
   "name": "python3"
  },
  "language_info": {
   "codemirror_mode": {
    "name": "ipython",
    "version": 3
   },
   "file_extension": ".py",
   "mimetype": "text/x-python",
   "name": "python",
   "nbconvert_exporter": "python",
   "pygments_lexer": "ipython3",
   "version": "3.12.1"
  }
 },
 "nbformat": 4,
 "nbformat_minor": 2
}
